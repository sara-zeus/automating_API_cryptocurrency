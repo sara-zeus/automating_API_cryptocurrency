{
 "cells": [
  {
   "cell_type": "code",
   "execution_count": 76,
   "id": "a065f9a9",
   "metadata": {},
   "outputs": [
    {
     "name": "stderr",
     "output_type": "stream",
     "text": [
      "/var/folders/gb/10gq5pxn4zl604ykdb1r_nnm0000gn/T/ipykernel_12336/3738216935.py:49: FutureWarning: The parsing of 'now' in pd.to_datetime without `utc=True` is deprecated. In a future version, this will match Timestamp('now') and Timestamp.now()\n",
      "  df['timestamp'] = pd.to_datetime('now')\n"
     ]
    },
    {
     "name": "stdout",
     "output_type": "stream",
     "text": [
      "API Runner completed\n"
     ]
    },
    {
     "ename": "KeyboardInterrupt",
     "evalue": "",
     "output_type": "error",
     "traceback": [
      "\u001b[0;31m---------------------------------------------------------------------------\u001b[0m",
      "\u001b[0;31mKeyboardInterrupt\u001b[0m                         Traceback (most recent call last)",
      "Cell \u001b[0;32mIn[76], line 95\u001b[0m\n\u001b[1;32m     93\u001b[0m     api_runner() \n\u001b[1;32m     94\u001b[0m     \u001b[38;5;28mprint\u001b[39m(\u001b[38;5;124m'\u001b[39m\u001b[38;5;124mAPI Runner completed\u001b[39m\u001b[38;5;124m'\u001b[39m)\n\u001b[0;32m---> 95\u001b[0m     \u001b[43msleep\u001b[49m\u001b[43m(\u001b[49m\u001b[38;5;241;43m60\u001b[39;49m\u001b[43m)\u001b[49m \u001b[38;5;66;03m#sleep for 1 minute\u001b[39;00m\n\u001b[1;32m     96\u001b[0m exit()\n\u001b[1;32m     98\u001b[0m dfCSV \u001b[38;5;241m=\u001b[39m pd\u001b[38;5;241m.\u001b[39mread_csv(\u001b[38;5;124mr\u001b[39m\u001b[38;5;124m'\u001b[39m\u001b[38;5;124mAPI.csv\u001b[39m\u001b[38;5;124m'\u001b[39m)\n",
      "\u001b[0;31mKeyboardInterrupt\u001b[0m: "
     ]
    }
   ],
   "source": [
    "\n",
    "#This code was provided by CoinMarketCap to obtain the API. \n",
    "#I also utilized the command 'jupyter notebook --NotebookApp.iopub_data_rate_limit=1e10' \n",
    "#to resolve the previous error encountered, enabling me to successfully retrieve the data.\n",
    "\n",
    "\n",
    "\n",
    "\n",
    "\n",
    "from requests import Request, Session\n",
    "from requests.exceptions import ConnectionError, Timeout, TooManyRedirects\n",
    "import json\n",
    "\n",
    "\n",
    "\n",
    "url = 'https://pro-api.coinmarketcap.com/v1/cryptocurrency/listings/latest' \n",
    "\n",
    "parameters = {\n",
    "  'start':'1',\n",
    "  'limit':'15',\n",
    "  'convert':'USD'\n",
    "}\n",
    "headers = {\n",
    "  'Accepts': 'application/json',\n",
    "  'X-CMC_PRO_API_KEY': '5e84f63c-675a-4d9e-90cc-a4a124c38452',\n",
    "}\n",
    "\n",
    "session = Session()\n",
    "session.headers.update(headers)\n",
    "\n",
    "try:\n",
    "  response = session.get(url, params=parameters)\n",
    "  data = json.loads(response.text)\n",
    "  #print(data)\n",
    "except (ConnectionError, Timeout, TooManyRedirects) as e:\n",
    "  print(e)\n",
    "\n",
    "\n",
    "import pandas as pd\n",
    "\n",
    "\n",
    "#view all columns of the able \n",
    "pd.set_option('display.max_columns', None)\n",
    "pd.set_option('display.max_rows', None)\n",
    "\n",
    "#Normalizing the data to enhance its presentation.\n",
    "\n",
    "\n",
    "df = pd.json_normalize(data['data'])\n",
    "df['timestamp'] = pd.to_datetime('now')\n",
    "\n",
    "df\n",
    "\n",
    "def api_runner():\n",
    "    global df\n",
    "    url = 'https://pro-api.coinmarketcap.com/v1/cryptocurrency/listings/latest' \n",
    "    parameters = {\n",
    "      'start':'1',\n",
    "      'limit':'333',\n",
    "      'convert':'USD'\n",
    "    }\n",
    "    headers = {\n",
    "      'Accepts': 'application/json',\n",
    "      'X-CMC_PRO_API_KEY': '0ad53085-1cb2-4eb8-ad9e-3ffbd7e56509',\n",
    "    }\n",
    "\n",
    "    session = Session()\n",
    "    session.headers.update(headers)\n",
    "\n",
    "    try:\n",
    "      response = session.get(url, params=parameters)\n",
    "      data = json.loads(response.text)\n",
    "      #print(data)\n",
    "    except (ConnectionError, Timeout, TooManyRedirects) as e:\n",
    "      print(e)\n",
    "\n",
    "    \n",
    "    # Use this if you want to create a csv and append data to it\n",
    "    df = pd.json_normalize(data['data'])\n",
    "    df['timestamp'] = pd.to_datetime(pd.Timestamp.now(), utc=True)\n",
    "\n",
    "    df\n",
    "\n",
    "    if not os.path.isfile(r'API.csv'):\n",
    "        df.to_csv(r'API.csv', header='column_names')\n",
    "    else:\n",
    "        df.to_csv(r'API.csv', mode='a', header=False)\n",
    "\n",
    "import os \n",
    "from time import time\n",
    "from time import sleep\n",
    "\n",
    "for i in range(333):\n",
    "    api_runner() \n",
    "    print('API Runner completed')\n",
    "    sleep(60) #sleep for 1 minute\n",
    "exit()\n",
    "\n",
    "dfCSV = pd.read_csv(r'API.csv')\n",
    "dfCSV\n",
    "    \n",
    "\n"
   ]
  },
  {
   "cell_type": "code",
   "execution_count": null,
   "id": "c5944cd3",
   "metadata": {},
   "outputs": [],
   "source": [
    "df72 = pd.read_csv('API.csv')\n",
    "df72 = df72.head(14)\n",
    "df72\n"
   ]
  },
  {
   "cell_type": "code",
   "execution_count": null,
   "id": "b1229f1a",
   "metadata": {},
   "outputs": [],
   "source": [
    "import matplotlib.pyplot as plt\n",
    "\n",
    "# Plotting 'name' versus 'quote.USD.price'\n",
    "plt.bar(df72['name'], df72['quote.USD.price'])\n",
    "\n",
    "# Rotating the x-axis labels for better visibility\n",
    "plt.xticks(rotation=90)\n",
    "\n",
    "# Setting the x-axis label\n",
    "plt.xlabel('Name')\n",
    "\n",
    "# Setting the y-axis label\n",
    "plt.ylabel('Price')\n",
    "\n",
    "# Setting the title of the plot\n",
    "plt.title('Cryptocurrency Prices by Name')\n",
    "\n",
    "# Adjusting the layout to prevent overlapping of labels\n",
    "plt.tight_layout()\n",
    "\n",
    "# Displaying the plot\n",
    "plt.show() "
   ]
  },
  {
   "cell_type": "code",
   "execution_count": null,
   "id": "130dfc04",
   "metadata": {},
   "outputs": [],
   "source": [
    "import matplotlib.pyplot as plt\n",
    "\n",
    "# Plotting 'symbol' versus 'quote.USD.volume_change_24h'\n",
    "plt.bar(df72['symbol'], df72['quote.USD.volume_change_24h'])\n",
    "\n",
    "# Rotating the x-axis labels for better visibility\n",
    "plt.xticks(rotation=90)\n",
    "\n",
    "# Setting the x-axis label\n",
    "plt.xlabel('Symbol')\n",
    "\n",
    "# Setting the y-axis label\n",
    "plt.ylabel('Volume Change (24h)')\n",
    "\n",
    "# Setting the title of the plot\n",
    "plt.title('Cryptocurrency Volume Change (24h) by Symbol')\n",
    "\n",
    "# Adjusting the layout to prevent overlapping of labels\n",
    "plt.tight_layout()\n",
    "\n",
    "# Displaying the plot\n",
    "plt.show()\n"
   ]
  },
  {
   "cell_type": "code",
   "execution_count": null,
   "id": "7b8d9584",
   "metadata": {},
   "outputs": [],
   "source": []
  },
  {
   "cell_type": "code",
   "execution_count": null,
   "id": "a95a0f56",
   "metadata": {},
   "outputs": [],
   "source": []
  },
  {
   "cell_type": "code",
   "execution_count": null,
   "id": "c54e4b29",
   "metadata": {},
   "outputs": [],
   "source": []
  },
  {
   "cell_type": "code",
   "execution_count": null,
   "id": "43fc744e",
   "metadata": {},
   "outputs": [],
   "source": []
  },
  {
   "cell_type": "code",
   "execution_count": null,
   "id": "3f2291c3",
   "metadata": {},
   "outputs": [],
   "source": []
  },
  {
   "cell_type": "code",
   "execution_count": null,
   "id": "d00b9acb",
   "metadata": {},
   "outputs": [],
   "source": []
  },
  {
   "cell_type": "code",
   "execution_count": null,
   "id": "ba5abc97",
   "metadata": {},
   "outputs": [],
   "source": []
  },
  {
   "cell_type": "code",
   "execution_count": null,
   "id": "411267ad",
   "metadata": {},
   "outputs": [],
   "source": []
  },
  {
   "cell_type": "code",
   "execution_count": null,
   "id": "09a9040e",
   "metadata": {},
   "outputs": [],
   "source": []
  },
  {
   "cell_type": "code",
   "execution_count": null,
   "id": "fc5fb995",
   "metadata": {},
   "outputs": [],
   "source": []
  }
 ],
 "metadata": {
  "kernelspec": {
   "display_name": "Python 3 (ipykernel)",
   "language": "python",
   "name": "python3"
  },
  "language_info": {
   "codemirror_mode": {
    "name": "ipython",
    "version": 3
   },
   "file_extension": ".py",
   "mimetype": "text/x-python",
   "name": "python",
   "nbconvert_exporter": "python",
   "pygments_lexer": "ipython3",
   "version": "3.10.9"
  }
 },
 "nbformat": 4,
 "nbformat_minor": 5
}
